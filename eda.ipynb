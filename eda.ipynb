{
 "cells": [
  {
   "cell_type": "code",
   "execution_count": 2,
   "metadata": {},
   "outputs": [],
   "source": [
    "import pandas as pd\n",
    "import seaborn as sns\n",
    "import matplotlib.pyplot as plt"
   ]
  },
  {
   "cell_type": "code",
   "execution_count": 3,
   "metadata": {},
   "outputs": [],
   "source": [
    "df = pd.read_csv('heart_2022_no_nans.csv')"
   ]
  },
  {
   "cell_type": "code",
   "execution_count": null,
   "metadata": {},
   "outputs": [
    {
     "data": {
      "text/html": [
       "<div>\n",
       "<style scoped>\n",
       "    .dataframe tbody tr th:only-of-type {\n",
       "        vertical-align: middle;\n",
       "    }\n",
       "\n",
       "    .dataframe tbody tr th {\n",
       "        vertical-align: top;\n",
       "    }\n",
       "\n",
       "    .dataframe thead th {\n",
       "        text-align: right;\n",
       "    }\n",
       "</style>\n",
       "<table border=\"1\" class=\"dataframe\">\n",
       "  <thead>\n",
       "    <tr style=\"text-align: right;\">\n",
       "      <th></th>\n",
       "      <th>State</th>\n",
       "      <th>Sex</th>\n",
       "      <th>GeneralHealth</th>\n",
       "      <th>PhysicalHealthDays</th>\n",
       "      <th>MentalHealthDays</th>\n",
       "      <th>LastCheckupTime</th>\n",
       "      <th>PhysicalActivities</th>\n",
       "      <th>SleepHours</th>\n",
       "      <th>RemovedTeeth</th>\n",
       "      <th>HadHeartAttack</th>\n",
       "      <th>...</th>\n",
       "      <th>HeightInMeters</th>\n",
       "      <th>WeightInKilograms</th>\n",
       "      <th>BMI</th>\n",
       "      <th>AlcoholDrinkers</th>\n",
       "      <th>HIVTesting</th>\n",
       "      <th>FluVaxLast12</th>\n",
       "      <th>PneumoVaxEver</th>\n",
       "      <th>TetanusLast10Tdap</th>\n",
       "      <th>HighRiskLastYear</th>\n",
       "      <th>CovidPos</th>\n",
       "    </tr>\n",
       "  </thead>\n",
       "  <tbody>\n",
       "    <tr>\n",
       "      <th>0</th>\n",
       "      <td>Alabama</td>\n",
       "      <td>Female</td>\n",
       "      <td>Very good</td>\n",
       "      <td>4.0</td>\n",
       "      <td>0.0</td>\n",
       "      <td>Within past year (anytime less than 12 months ...</td>\n",
       "      <td>Yes</td>\n",
       "      <td>9.0</td>\n",
       "      <td>None of them</td>\n",
       "      <td>No</td>\n",
       "      <td>...</td>\n",
       "      <td>1.60</td>\n",
       "      <td>71.67</td>\n",
       "      <td>27.99</td>\n",
       "      <td>No</td>\n",
       "      <td>No</td>\n",
       "      <td>Yes</td>\n",
       "      <td>Yes</td>\n",
       "      <td>Yes, received Tdap</td>\n",
       "      <td>No</td>\n",
       "      <td>No</td>\n",
       "    </tr>\n",
       "    <tr>\n",
       "      <th>1</th>\n",
       "      <td>Alabama</td>\n",
       "      <td>Male</td>\n",
       "      <td>Very good</td>\n",
       "      <td>0.0</td>\n",
       "      <td>0.0</td>\n",
       "      <td>Within past year (anytime less than 12 months ...</td>\n",
       "      <td>Yes</td>\n",
       "      <td>6.0</td>\n",
       "      <td>None of them</td>\n",
       "      <td>No</td>\n",
       "      <td>...</td>\n",
       "      <td>1.78</td>\n",
       "      <td>95.25</td>\n",
       "      <td>30.13</td>\n",
       "      <td>No</td>\n",
       "      <td>No</td>\n",
       "      <td>Yes</td>\n",
       "      <td>Yes</td>\n",
       "      <td>Yes, received tetanus shot but not sure what type</td>\n",
       "      <td>No</td>\n",
       "      <td>No</td>\n",
       "    </tr>\n",
       "    <tr>\n",
       "      <th>2</th>\n",
       "      <td>Alabama</td>\n",
       "      <td>Male</td>\n",
       "      <td>Very good</td>\n",
       "      <td>0.0</td>\n",
       "      <td>0.0</td>\n",
       "      <td>Within past year (anytime less than 12 months ...</td>\n",
       "      <td>No</td>\n",
       "      <td>8.0</td>\n",
       "      <td>6 or more, but not all</td>\n",
       "      <td>No</td>\n",
       "      <td>...</td>\n",
       "      <td>1.85</td>\n",
       "      <td>108.86</td>\n",
       "      <td>31.66</td>\n",
       "      <td>Yes</td>\n",
       "      <td>No</td>\n",
       "      <td>No</td>\n",
       "      <td>Yes</td>\n",
       "      <td>No, did not receive any tetanus shot in the pa...</td>\n",
       "      <td>No</td>\n",
       "      <td>Yes</td>\n",
       "    </tr>\n",
       "    <tr>\n",
       "      <th>3</th>\n",
       "      <td>Alabama</td>\n",
       "      <td>Female</td>\n",
       "      <td>Fair</td>\n",
       "      <td>5.0</td>\n",
       "      <td>0.0</td>\n",
       "      <td>Within past year (anytime less than 12 months ...</td>\n",
       "      <td>Yes</td>\n",
       "      <td>9.0</td>\n",
       "      <td>None of them</td>\n",
       "      <td>No</td>\n",
       "      <td>...</td>\n",
       "      <td>1.70</td>\n",
       "      <td>90.72</td>\n",
       "      <td>31.32</td>\n",
       "      <td>No</td>\n",
       "      <td>No</td>\n",
       "      <td>Yes</td>\n",
       "      <td>Yes</td>\n",
       "      <td>No, did not receive any tetanus shot in the pa...</td>\n",
       "      <td>No</td>\n",
       "      <td>Yes</td>\n",
       "    </tr>\n",
       "    <tr>\n",
       "      <th>4</th>\n",
       "      <td>Alabama</td>\n",
       "      <td>Female</td>\n",
       "      <td>Good</td>\n",
       "      <td>3.0</td>\n",
       "      <td>15.0</td>\n",
       "      <td>Within past year (anytime less than 12 months ...</td>\n",
       "      <td>Yes</td>\n",
       "      <td>5.0</td>\n",
       "      <td>1 to 5</td>\n",
       "      <td>No</td>\n",
       "      <td>...</td>\n",
       "      <td>1.55</td>\n",
       "      <td>79.38</td>\n",
       "      <td>33.07</td>\n",
       "      <td>No</td>\n",
       "      <td>No</td>\n",
       "      <td>Yes</td>\n",
       "      <td>Yes</td>\n",
       "      <td>No, did not receive any tetanus shot in the pa...</td>\n",
       "      <td>No</td>\n",
       "      <td>No</td>\n",
       "    </tr>\n",
       "    <tr>\n",
       "      <th>...</th>\n",
       "      <td>...</td>\n",
       "      <td>...</td>\n",
       "      <td>...</td>\n",
       "      <td>...</td>\n",
       "      <td>...</td>\n",
       "      <td>...</td>\n",
       "      <td>...</td>\n",
       "      <td>...</td>\n",
       "      <td>...</td>\n",
       "      <td>...</td>\n",
       "      <td>...</td>\n",
       "      <td>...</td>\n",
       "      <td>...</td>\n",
       "      <td>...</td>\n",
       "      <td>...</td>\n",
       "      <td>...</td>\n",
       "      <td>...</td>\n",
       "      <td>...</td>\n",
       "      <td>...</td>\n",
       "      <td>...</td>\n",
       "      <td>...</td>\n",
       "    </tr>\n",
       "    <tr>\n",
       "      <th>246017</th>\n",
       "      <td>Virgin Islands</td>\n",
       "      <td>Male</td>\n",
       "      <td>Very good</td>\n",
       "      <td>0.0</td>\n",
       "      <td>0.0</td>\n",
       "      <td>Within past 2 years (1 year but less than 2 ye...</td>\n",
       "      <td>Yes</td>\n",
       "      <td>6.0</td>\n",
       "      <td>None of them</td>\n",
       "      <td>No</td>\n",
       "      <td>...</td>\n",
       "      <td>1.78</td>\n",
       "      <td>102.06</td>\n",
       "      <td>32.28</td>\n",
       "      <td>Yes</td>\n",
       "      <td>No</td>\n",
       "      <td>No</td>\n",
       "      <td>No</td>\n",
       "      <td>Yes, received tetanus shot but not sure what type</td>\n",
       "      <td>No</td>\n",
       "      <td>No</td>\n",
       "    </tr>\n",
       "    <tr>\n",
       "      <th>246018</th>\n",
       "      <td>Virgin Islands</td>\n",
       "      <td>Female</td>\n",
       "      <td>Fair</td>\n",
       "      <td>0.0</td>\n",
       "      <td>7.0</td>\n",
       "      <td>Within past year (anytime less than 12 months ...</td>\n",
       "      <td>Yes</td>\n",
       "      <td>7.0</td>\n",
       "      <td>None of them</td>\n",
       "      <td>No</td>\n",
       "      <td>...</td>\n",
       "      <td>1.93</td>\n",
       "      <td>90.72</td>\n",
       "      <td>24.34</td>\n",
       "      <td>No</td>\n",
       "      <td>No</td>\n",
       "      <td>No</td>\n",
       "      <td>No</td>\n",
       "      <td>No, did not receive any tetanus shot in the pa...</td>\n",
       "      <td>No</td>\n",
       "      <td>Yes</td>\n",
       "    </tr>\n",
       "    <tr>\n",
       "      <th>246019</th>\n",
       "      <td>Virgin Islands</td>\n",
       "      <td>Male</td>\n",
       "      <td>Good</td>\n",
       "      <td>0.0</td>\n",
       "      <td>15.0</td>\n",
       "      <td>Within past year (anytime less than 12 months ...</td>\n",
       "      <td>Yes</td>\n",
       "      <td>7.0</td>\n",
       "      <td>1 to 5</td>\n",
       "      <td>No</td>\n",
       "      <td>...</td>\n",
       "      <td>1.68</td>\n",
       "      <td>83.91</td>\n",
       "      <td>29.86</td>\n",
       "      <td>Yes</td>\n",
       "      <td>Yes</td>\n",
       "      <td>Yes</td>\n",
       "      <td>Yes</td>\n",
       "      <td>Yes, received tetanus shot but not sure what type</td>\n",
       "      <td>No</td>\n",
       "      <td>Yes</td>\n",
       "    </tr>\n",
       "    <tr>\n",
       "      <th>246020</th>\n",
       "      <td>Virgin Islands</td>\n",
       "      <td>Female</td>\n",
       "      <td>Excellent</td>\n",
       "      <td>2.0</td>\n",
       "      <td>2.0</td>\n",
       "      <td>Within past year (anytime less than 12 months ...</td>\n",
       "      <td>Yes</td>\n",
       "      <td>7.0</td>\n",
       "      <td>None of them</td>\n",
       "      <td>No</td>\n",
       "      <td>...</td>\n",
       "      <td>1.70</td>\n",
       "      <td>83.01</td>\n",
       "      <td>28.66</td>\n",
       "      <td>No</td>\n",
       "      <td>Yes</td>\n",
       "      <td>Yes</td>\n",
       "      <td>No</td>\n",
       "      <td>Yes, received tetanus shot but not sure what type</td>\n",
       "      <td>No</td>\n",
       "      <td>No</td>\n",
       "    </tr>\n",
       "    <tr>\n",
       "      <th>246021</th>\n",
       "      <td>Virgin Islands</td>\n",
       "      <td>Male</td>\n",
       "      <td>Very good</td>\n",
       "      <td>0.0</td>\n",
       "      <td>0.0</td>\n",
       "      <td>Within past year (anytime less than 12 months ...</td>\n",
       "      <td>No</td>\n",
       "      <td>5.0</td>\n",
       "      <td>None of them</td>\n",
       "      <td>Yes</td>\n",
       "      <td>...</td>\n",
       "      <td>1.83</td>\n",
       "      <td>108.86</td>\n",
       "      <td>32.55</td>\n",
       "      <td>No</td>\n",
       "      <td>Yes</td>\n",
       "      <td>Yes</td>\n",
       "      <td>Yes</td>\n",
       "      <td>No, did not receive any tetanus shot in the pa...</td>\n",
       "      <td>No</td>\n",
       "      <td>Yes</td>\n",
       "    </tr>\n",
       "  </tbody>\n",
       "</table>\n",
       "<p>246022 rows × 40 columns</p>\n",
       "</div>"
      ],
      "text/plain": [
       "                 State     Sex GeneralHealth  PhysicalHealthDays  \\\n",
       "0              Alabama  Female     Very good                 4.0   \n",
       "1              Alabama    Male     Very good                 0.0   \n",
       "2              Alabama    Male     Very good                 0.0   \n",
       "3              Alabama  Female          Fair                 5.0   \n",
       "4              Alabama  Female          Good                 3.0   \n",
       "...                ...     ...           ...                 ...   \n",
       "246017  Virgin Islands    Male     Very good                 0.0   \n",
       "246018  Virgin Islands  Female          Fair                 0.0   \n",
       "246019  Virgin Islands    Male          Good                 0.0   \n",
       "246020  Virgin Islands  Female     Excellent                 2.0   \n",
       "246021  Virgin Islands    Male     Very good                 0.0   \n",
       "\n",
       "        MentalHealthDays                                    LastCheckupTime  \\\n",
       "0                    0.0  Within past year (anytime less than 12 months ...   \n",
       "1                    0.0  Within past year (anytime less than 12 months ...   \n",
       "2                    0.0  Within past year (anytime less than 12 months ...   \n",
       "3                    0.0  Within past year (anytime less than 12 months ...   \n",
       "4                   15.0  Within past year (anytime less than 12 months ...   \n",
       "...                  ...                                                ...   \n",
       "246017               0.0  Within past 2 years (1 year but less than 2 ye...   \n",
       "246018               7.0  Within past year (anytime less than 12 months ...   \n",
       "246019              15.0  Within past year (anytime less than 12 months ...   \n",
       "246020               2.0  Within past year (anytime less than 12 months ...   \n",
       "246021               0.0  Within past year (anytime less than 12 months ...   \n",
       "\n",
       "       PhysicalActivities  SleepHours            RemovedTeeth HadHeartAttack  \\\n",
       "0                     Yes         9.0            None of them             No   \n",
       "1                     Yes         6.0            None of them             No   \n",
       "2                      No         8.0  6 or more, but not all             No   \n",
       "3                     Yes         9.0            None of them             No   \n",
       "4                     Yes         5.0                  1 to 5             No   \n",
       "...                   ...         ...                     ...            ...   \n",
       "246017                Yes         6.0            None of them             No   \n",
       "246018                Yes         7.0            None of them             No   \n",
       "246019                Yes         7.0                  1 to 5             No   \n",
       "246020                Yes         7.0            None of them             No   \n",
       "246021                 No         5.0            None of them            Yes   \n",
       "\n",
       "        ... HeightInMeters WeightInKilograms    BMI AlcoholDrinkers  \\\n",
       "0       ...           1.60             71.67  27.99              No   \n",
       "1       ...           1.78             95.25  30.13              No   \n",
       "2       ...           1.85            108.86  31.66             Yes   \n",
       "3       ...           1.70             90.72  31.32              No   \n",
       "4       ...           1.55             79.38  33.07              No   \n",
       "...     ...            ...               ...    ...             ...   \n",
       "246017  ...           1.78            102.06  32.28             Yes   \n",
       "246018  ...           1.93             90.72  24.34              No   \n",
       "246019  ...           1.68             83.91  29.86             Yes   \n",
       "246020  ...           1.70             83.01  28.66              No   \n",
       "246021  ...           1.83            108.86  32.55              No   \n",
       "\n",
       "       HIVTesting FluVaxLast12 PneumoVaxEver  \\\n",
       "0              No          Yes           Yes   \n",
       "1              No          Yes           Yes   \n",
       "2              No           No           Yes   \n",
       "3              No          Yes           Yes   \n",
       "4              No          Yes           Yes   \n",
       "...           ...          ...           ...   \n",
       "246017         No           No            No   \n",
       "246018         No           No            No   \n",
       "246019        Yes          Yes           Yes   \n",
       "246020        Yes          Yes            No   \n",
       "246021        Yes          Yes           Yes   \n",
       "\n",
       "                                        TetanusLast10Tdap HighRiskLastYear  \\\n",
       "0                                      Yes, received Tdap               No   \n",
       "1       Yes, received tetanus shot but not sure what type               No   \n",
       "2       No, did not receive any tetanus shot in the pa...               No   \n",
       "3       No, did not receive any tetanus shot in the pa...               No   \n",
       "4       No, did not receive any tetanus shot in the pa...               No   \n",
       "...                                                   ...              ...   \n",
       "246017  Yes, received tetanus shot but not sure what type               No   \n",
       "246018  No, did not receive any tetanus shot in the pa...               No   \n",
       "246019  Yes, received tetanus shot but not sure what type               No   \n",
       "246020  Yes, received tetanus shot but not sure what type               No   \n",
       "246021  No, did not receive any tetanus shot in the pa...               No   \n",
       "\n",
       "       CovidPos  \n",
       "0            No  \n",
       "1            No  \n",
       "2           Yes  \n",
       "3           Yes  \n",
       "4            No  \n",
       "...         ...  \n",
       "246017       No  \n",
       "246018      Yes  \n",
       "246019      Yes  \n",
       "246020       No  \n",
       "246021      Yes  \n",
       "\n",
       "[246022 rows x 40 columns]"
      ]
     },
     "execution_count": 3,
     "metadata": {},
     "output_type": "execute_result"
    }
   ],
   "source": [
    "df"
   ]
  },
  {
   "cell_type": "code",
   "execution_count": 5,
   "metadata": {},
   "outputs": [
    {
     "data": {
      "text/plain": [
       "Index(['State', 'Sex', 'GeneralHealth', 'PhysicalHealthDays',\n",
       "       'MentalHealthDays', 'LastCheckupTime', 'PhysicalActivities',\n",
       "       'SleepHours', 'RemovedTeeth', 'HadHeartAttack', 'HadAngina',\n",
       "       'HadStroke', 'HadAsthma', 'HadSkinCancer', 'HadCOPD',\n",
       "       'HadDepressiveDisorder', 'HadKidneyDisease', 'HadArthritis',\n",
       "       'HadDiabetes', 'DeafOrHardOfHearing', 'BlindOrVisionDifficulty',\n",
       "       'DifficultyConcentrating', 'DifficultyWalking',\n",
       "       'DifficultyDressingBathing', 'DifficultyErrands', 'SmokerStatus',\n",
       "       'ECigaretteUsage', 'ChestScan', 'RaceEthnicityCategory', 'AgeCategory',\n",
       "       'HeightInMeters', 'WeightInKilograms', 'BMI', 'AlcoholDrinkers',\n",
       "       'HIVTesting', 'FluVaxLast12', 'PneumoVaxEver', 'TetanusLast10Tdap',\n",
       "       'HighRiskLastYear', 'CovidPos'],\n",
       "      dtype='object')"
      ]
     },
     "execution_count": 5,
     "metadata": {},
     "output_type": "execute_result"
    }
   ],
   "source": [
    "df.columns"
   ]
  },
  {
   "cell_type": "code",
   "execution_count": 37,
   "metadata": {},
   "outputs": [
    {
     "data": {
      "text/plain": [
       "(246022, 31)"
      ]
     },
     "execution_count": 37,
     "metadata": {},
     "output_type": "execute_result"
    }
   ],
   "source": [
    "df.shape"
   ]
  },
  {
   "cell_type": "code",
   "execution_count": 14,
   "metadata": {},
   "outputs": [
    {
     "data": {
      "text/plain": [
       "Index(['State', 'Sex', 'GeneralHealth', 'PhysicalHealthDays',\n",
       "       'MentalHealthDays', 'LastCheckupTime', 'PhysicalActivities',\n",
       "       'SleepHours', 'RemovedTeeth', 'HadHeartAttack', 'HadAngina',\n",
       "       'HadStroke', 'HadAsthma', 'HadSkinCancer', 'HadCOPD',\n",
       "       'HadDepressiveDisorder', 'HadKidneyDisease', 'HadArthritis',\n",
       "       'HadDiabetes', 'DeafOrHardOfHearing', 'BlindOrVisionDifficulty',\n",
       "       'DifficultyConcentrating', 'DifficultyWalking',\n",
       "       'DifficultyDressingBathing', 'DifficultyErrands', 'SmokerStatus',\n",
       "       'ECigaretteUsage', 'ChestScan', 'RaceEthnicityCategory', 'AgeCategory',\n",
       "       'HeightInMeters', 'WeightInKilograms', 'BMI', 'AlcoholDrinkers',\n",
       "       'HIVTesting', 'FluVaxLast12', 'PneumoVaxEver', 'TetanusLast10Tdap',\n",
       "       'HighRiskLastYear', 'CovidPos'],\n",
       "      dtype='object')"
      ]
     },
     "execution_count": 14,
     "metadata": {},
     "output_type": "execute_result"
    }
   ],
   "source": [
    "df.columns"
   ]
  },
  {
   "cell_type": "code",
   "execution_count": 11,
   "metadata": {},
   "outputs": [
    {
     "data": {
      "text/html": [
       "<div>\n",
       "<style scoped>\n",
       "    .dataframe tbody tr th:only-of-type {\n",
       "        vertical-align: middle;\n",
       "    }\n",
       "\n",
       "    .dataframe tbody tr th {\n",
       "        vertical-align: top;\n",
       "    }\n",
       "\n",
       "    .dataframe thead th {\n",
       "        text-align: right;\n",
       "    }\n",
       "</style>\n",
       "<table border=\"1\" class=\"dataframe\">\n",
       "  <thead>\n",
       "    <tr style=\"text-align: right;\">\n",
       "      <th></th>\n",
       "      <th>PhysicalHealthDays</th>\n",
       "      <th>MentalHealthDays</th>\n",
       "      <th>SleepHours</th>\n",
       "      <th>HeightInMeters</th>\n",
       "      <th>WeightInKilograms</th>\n",
       "      <th>BMI</th>\n",
       "    </tr>\n",
       "  </thead>\n",
       "  <tbody>\n",
       "    <tr>\n",
       "      <th>count</th>\n",
       "      <td>246022.000000</td>\n",
       "      <td>246022.000000</td>\n",
       "      <td>246022.000000</td>\n",
       "      <td>246022.000000</td>\n",
       "      <td>246022.000000</td>\n",
       "      <td>246022.000000</td>\n",
       "    </tr>\n",
       "    <tr>\n",
       "      <th>mean</th>\n",
       "      <td>4.119026</td>\n",
       "      <td>4.167140</td>\n",
       "      <td>7.021331</td>\n",
       "      <td>1.705150</td>\n",
       "      <td>83.615179</td>\n",
       "      <td>28.668136</td>\n",
       "    </tr>\n",
       "    <tr>\n",
       "      <th>std</th>\n",
       "      <td>8.405844</td>\n",
       "      <td>8.102687</td>\n",
       "      <td>1.440681</td>\n",
       "      <td>0.106654</td>\n",
       "      <td>21.323156</td>\n",
       "      <td>6.513973</td>\n",
       "    </tr>\n",
       "    <tr>\n",
       "      <th>min</th>\n",
       "      <td>0.000000</td>\n",
       "      <td>0.000000</td>\n",
       "      <td>1.000000</td>\n",
       "      <td>0.910000</td>\n",
       "      <td>28.120000</td>\n",
       "      <td>12.020000</td>\n",
       "    </tr>\n",
       "    <tr>\n",
       "      <th>25%</th>\n",
       "      <td>0.000000</td>\n",
       "      <td>0.000000</td>\n",
       "      <td>6.000000</td>\n",
       "      <td>1.630000</td>\n",
       "      <td>68.040000</td>\n",
       "      <td>24.270000</td>\n",
       "    </tr>\n",
       "    <tr>\n",
       "      <th>50%</th>\n",
       "      <td>0.000000</td>\n",
       "      <td>0.000000</td>\n",
       "      <td>7.000000</td>\n",
       "      <td>1.700000</td>\n",
       "      <td>81.650000</td>\n",
       "      <td>27.460000</td>\n",
       "    </tr>\n",
       "    <tr>\n",
       "      <th>75%</th>\n",
       "      <td>3.000000</td>\n",
       "      <td>4.000000</td>\n",
       "      <td>8.000000</td>\n",
       "      <td>1.780000</td>\n",
       "      <td>95.250000</td>\n",
       "      <td>31.890000</td>\n",
       "    </tr>\n",
       "    <tr>\n",
       "      <th>max</th>\n",
       "      <td>30.000000</td>\n",
       "      <td>30.000000</td>\n",
       "      <td>24.000000</td>\n",
       "      <td>2.410000</td>\n",
       "      <td>292.570000</td>\n",
       "      <td>97.650000</td>\n",
       "    </tr>\n",
       "  </tbody>\n",
       "</table>\n",
       "</div>"
      ],
      "text/plain": [
       "       PhysicalHealthDays  MentalHealthDays     SleepHours  HeightInMeters  \\\n",
       "count       246022.000000     246022.000000  246022.000000   246022.000000   \n",
       "mean             4.119026          4.167140       7.021331        1.705150   \n",
       "std              8.405844          8.102687       1.440681        0.106654   \n",
       "min              0.000000          0.000000       1.000000        0.910000   \n",
       "25%              0.000000          0.000000       6.000000        1.630000   \n",
       "50%              0.000000          0.000000       7.000000        1.700000   \n",
       "75%              3.000000          4.000000       8.000000        1.780000   \n",
       "max             30.000000         30.000000      24.000000        2.410000   \n",
       "\n",
       "       WeightInKilograms            BMI  \n",
       "count      246022.000000  246022.000000  \n",
       "mean           83.615179      28.668136  \n",
       "std            21.323156       6.513973  \n",
       "min            28.120000      12.020000  \n",
       "25%            68.040000      24.270000  \n",
       "50%            81.650000      27.460000  \n",
       "75%            95.250000      31.890000  \n",
       "max           292.570000      97.650000  "
      ]
     },
     "execution_count": 11,
     "metadata": {},
     "output_type": "execute_result"
    }
   ],
   "source": [
    "df.describe()"
   ]
  },
  {
   "cell_type": "markdown",
   "metadata": {},
   "source": [
    "Data Cleaning"
   ]
  },
  {
   "cell_type": "code",
   "execution_count": 12,
   "metadata": {},
   "outputs": [
    {
     "data": {
      "text/plain": [
       "State                        0\n",
       "Sex                          0\n",
       "GeneralHealth                0\n",
       "PhysicalHealthDays           0\n",
       "MentalHealthDays             0\n",
       "LastCheckupTime              0\n",
       "PhysicalActivities           0\n",
       "SleepHours                   0\n",
       "RemovedTeeth                 0\n",
       "HadHeartAttack               0\n",
       "HadAngina                    0\n",
       "HadStroke                    0\n",
       "HadAsthma                    0\n",
       "HadSkinCancer                0\n",
       "HadCOPD                      0\n",
       "HadDepressiveDisorder        0\n",
       "HadKidneyDisease             0\n",
       "HadArthritis                 0\n",
       "HadDiabetes                  0\n",
       "DeafOrHardOfHearing          0\n",
       "BlindOrVisionDifficulty      0\n",
       "DifficultyConcentrating      0\n",
       "DifficultyWalking            0\n",
       "DifficultyDressingBathing    0\n",
       "DifficultyErrands            0\n",
       "SmokerStatus                 0\n",
       "ECigaretteUsage              0\n",
       "ChestScan                    0\n",
       "RaceEthnicityCategory        0\n",
       "AgeCategory                  0\n",
       "HeightInMeters               0\n",
       "WeightInKilograms            0\n",
       "BMI                          0\n",
       "AlcoholDrinkers              0\n",
       "HIVTesting                   0\n",
       "FluVaxLast12                 0\n",
       "PneumoVaxEver                0\n",
       "TetanusLast10Tdap            0\n",
       "HighRiskLastYear             0\n",
       "CovidPos                     0\n",
       "dtype: int64"
      ]
     },
     "execution_count": 12,
     "metadata": {},
     "output_type": "execute_result"
    }
   ],
   "source": [
    "df.isnull().sum()"
   ]
  },
  {
   "cell_type": "code",
   "execution_count": 4,
   "metadata": {},
   "outputs": [
    {
     "data": {
      "text/plain": [
       "9"
      ]
     },
     "execution_count": 4,
     "metadata": {},
     "output_type": "execute_result"
    }
   ],
   "source": [
    "df.duplicated().sum()"
   ]
  },
  {
   "cell_type": "code",
   "execution_count": 5,
   "metadata": {},
   "outputs": [],
   "source": [
    "df = df.drop(columns=['State', 'RemovedTeeth', 'LastCheckupTime', 'ChestScan', 'HIVTesting', 'FluVaxLast12', 'PneumoVaxEver', 'TetanusLast10Tdap', 'HighRiskLastYear'])"
   ]
  },
  {
   "cell_type": "code",
   "execution_count": 38,
   "metadata": {},
   "outputs": [
    {
     "data": {
      "text/plain": [
       "(246022, 31)"
      ]
     },
     "execution_count": 38,
     "metadata": {},
     "output_type": "execute_result"
    }
   ],
   "source": [
    "df.shape"
   ]
  },
  {
   "cell_type": "code",
   "execution_count": 18,
   "metadata": {},
   "outputs": [
    {
     "data": {
      "text/plain": [
       "Index(['Sex', 'GeneralHealth', 'PhysicalHealthDays', 'MentalHealthDays',\n",
       "       'PhysicalActivities', 'SleepHours', 'HadHeartAttack', 'HadAngina',\n",
       "       'HadStroke', 'HadAsthma', 'HadSkinCancer', 'HadCOPD',\n",
       "       'HadDepressiveDisorder', 'HadKidneyDisease', 'HadArthritis',\n",
       "       'HadDiabetes', 'DeafOrHardOfHearing', 'BlindOrVisionDifficulty',\n",
       "       'DifficultyConcentrating', 'DifficultyWalking',\n",
       "       'DifficultyDressingBathing', 'DifficultyErrands', 'SmokerStatus',\n",
       "       'ECigaretteUsage', 'RaceEthnicityCategory', 'AgeCategory',\n",
       "       'HeightInMeters', 'WeightInKilograms', 'BMI', 'AlcoholDrinkers',\n",
       "       'CovidPos'],\n",
       "      dtype='object')"
      ]
     },
     "execution_count": 18,
     "metadata": {},
     "output_type": "execute_result"
    }
   ],
   "source": [
    "df.columns"
   ]
  },
  {
   "cell_type": "code",
   "execution_count": 4,
   "metadata": {},
   "outputs": [
    {
     "data": {
      "text/html": [
       "<div>\n",
       "<style scoped>\n",
       "    .dataframe tbody tr th:only-of-type {\n",
       "        vertical-align: middle;\n",
       "    }\n",
       "\n",
       "    .dataframe tbody tr th {\n",
       "        vertical-align: top;\n",
       "    }\n",
       "\n",
       "    .dataframe thead th {\n",
       "        text-align: right;\n",
       "    }\n",
       "</style>\n",
       "<table border=\"1\" class=\"dataframe\">\n",
       "  <thead>\n",
       "    <tr style=\"text-align: right;\">\n",
       "      <th></th>\n",
       "      <th>HeightInMeters</th>\n",
       "      <th>WeightInKilograms</th>\n",
       "      <th>BMI</th>\n",
       "      <th>AgeCategory</th>\n",
       "      <th>SmokerStatus</th>\n",
       "      <th>ECigaretteUsage</th>\n",
       "      <th>AlcoholDrinkers</th>\n",
       "      <th>PhysicalActivities</th>\n",
       "      <th>SleepHours</th>\n",
       "      <th>HadHeartAttack</th>\n",
       "    </tr>\n",
       "  </thead>\n",
       "  <tbody>\n",
       "    <tr>\n",
       "      <th>0</th>\n",
       "      <td>1.60</td>\n",
       "      <td>71.67</td>\n",
       "      <td>27.99</td>\n",
       "      <td>Age 65 to 69</td>\n",
       "      <td>Former smoker</td>\n",
       "      <td>Never used e-cigarettes in my entire life</td>\n",
       "      <td>No</td>\n",
       "      <td>Yes</td>\n",
       "      <td>9.0</td>\n",
       "      <td>No</td>\n",
       "    </tr>\n",
       "    <tr>\n",
       "      <th>1</th>\n",
       "      <td>1.78</td>\n",
       "      <td>95.25</td>\n",
       "      <td>30.13</td>\n",
       "      <td>Age 70 to 74</td>\n",
       "      <td>Former smoker</td>\n",
       "      <td>Never used e-cigarettes in my entire life</td>\n",
       "      <td>No</td>\n",
       "      <td>Yes</td>\n",
       "      <td>6.0</td>\n",
       "      <td>No</td>\n",
       "    </tr>\n",
       "    <tr>\n",
       "      <th>2</th>\n",
       "      <td>1.85</td>\n",
       "      <td>108.86</td>\n",
       "      <td>31.66</td>\n",
       "      <td>Age 75 to 79</td>\n",
       "      <td>Former smoker</td>\n",
       "      <td>Never used e-cigarettes in my entire life</td>\n",
       "      <td>Yes</td>\n",
       "      <td>No</td>\n",
       "      <td>8.0</td>\n",
       "      <td>No</td>\n",
       "    </tr>\n",
       "    <tr>\n",
       "      <th>3</th>\n",
       "      <td>1.70</td>\n",
       "      <td>90.72</td>\n",
       "      <td>31.32</td>\n",
       "      <td>Age 80 or older</td>\n",
       "      <td>Never smoked</td>\n",
       "      <td>Never used e-cigarettes in my entire life</td>\n",
       "      <td>No</td>\n",
       "      <td>Yes</td>\n",
       "      <td>9.0</td>\n",
       "      <td>No</td>\n",
       "    </tr>\n",
       "    <tr>\n",
       "      <th>4</th>\n",
       "      <td>1.55</td>\n",
       "      <td>79.38</td>\n",
       "      <td>33.07</td>\n",
       "      <td>Age 80 or older</td>\n",
       "      <td>Never smoked</td>\n",
       "      <td>Never used e-cigarettes in my entire life</td>\n",
       "      <td>No</td>\n",
       "      <td>Yes</td>\n",
       "      <td>5.0</td>\n",
       "      <td>No</td>\n",
       "    </tr>\n",
       "    <tr>\n",
       "      <th>...</th>\n",
       "      <td>...</td>\n",
       "      <td>...</td>\n",
       "      <td>...</td>\n",
       "      <td>...</td>\n",
       "      <td>...</td>\n",
       "      <td>...</td>\n",
       "      <td>...</td>\n",
       "      <td>...</td>\n",
       "      <td>...</td>\n",
       "      <td>...</td>\n",
       "    </tr>\n",
       "    <tr>\n",
       "      <th>246017</th>\n",
       "      <td>1.78</td>\n",
       "      <td>102.06</td>\n",
       "      <td>32.28</td>\n",
       "      <td>Age 60 to 64</td>\n",
       "      <td>Never smoked</td>\n",
       "      <td>Never used e-cigarettes in my entire life</td>\n",
       "      <td>Yes</td>\n",
       "      <td>Yes</td>\n",
       "      <td>6.0</td>\n",
       "      <td>No</td>\n",
       "    </tr>\n",
       "    <tr>\n",
       "      <th>246018</th>\n",
       "      <td>1.93</td>\n",
       "      <td>90.72</td>\n",
       "      <td>24.34</td>\n",
       "      <td>Age 25 to 29</td>\n",
       "      <td>Never smoked</td>\n",
       "      <td>Never used e-cigarettes in my entire life</td>\n",
       "      <td>No</td>\n",
       "      <td>Yes</td>\n",
       "      <td>7.0</td>\n",
       "      <td>No</td>\n",
       "    </tr>\n",
       "    <tr>\n",
       "      <th>246019</th>\n",
       "      <td>1.68</td>\n",
       "      <td>83.91</td>\n",
       "      <td>29.86</td>\n",
       "      <td>Age 65 to 69</td>\n",
       "      <td>Never smoked</td>\n",
       "      <td>Never used e-cigarettes in my entire life</td>\n",
       "      <td>Yes</td>\n",
       "      <td>Yes</td>\n",
       "      <td>7.0</td>\n",
       "      <td>No</td>\n",
       "    </tr>\n",
       "    <tr>\n",
       "      <th>246020</th>\n",
       "      <td>1.70</td>\n",
       "      <td>83.01</td>\n",
       "      <td>28.66</td>\n",
       "      <td>Age 50 to 54</td>\n",
       "      <td>Never smoked</td>\n",
       "      <td>Never used e-cigarettes in my entire life</td>\n",
       "      <td>No</td>\n",
       "      <td>Yes</td>\n",
       "      <td>7.0</td>\n",
       "      <td>No</td>\n",
       "    </tr>\n",
       "    <tr>\n",
       "      <th>246021</th>\n",
       "      <td>1.83</td>\n",
       "      <td>108.86</td>\n",
       "      <td>32.55</td>\n",
       "      <td>Age 70 to 74</td>\n",
       "      <td>Never smoked</td>\n",
       "      <td>Never used e-cigarettes in my entire life</td>\n",
       "      <td>No</td>\n",
       "      <td>No</td>\n",
       "      <td>5.0</td>\n",
       "      <td>Yes</td>\n",
       "    </tr>\n",
       "  </tbody>\n",
       "</table>\n",
       "<p>246022 rows × 10 columns</p>\n",
       "</div>"
      ],
      "text/plain": [
       "        HeightInMeters  WeightInKilograms    BMI      AgeCategory  \\\n",
       "0                 1.60              71.67  27.99     Age 65 to 69   \n",
       "1                 1.78              95.25  30.13     Age 70 to 74   \n",
       "2                 1.85             108.86  31.66     Age 75 to 79   \n",
       "3                 1.70              90.72  31.32  Age 80 or older   \n",
       "4                 1.55              79.38  33.07  Age 80 or older   \n",
       "...                ...                ...    ...              ...   \n",
       "246017            1.78             102.06  32.28     Age 60 to 64   \n",
       "246018            1.93              90.72  24.34     Age 25 to 29   \n",
       "246019            1.68              83.91  29.86     Age 65 to 69   \n",
       "246020            1.70              83.01  28.66     Age 50 to 54   \n",
       "246021            1.83             108.86  32.55     Age 70 to 74   \n",
       "\n",
       "         SmokerStatus                            ECigaretteUsage  \\\n",
       "0       Former smoker  Never used e-cigarettes in my entire life   \n",
       "1       Former smoker  Never used e-cigarettes in my entire life   \n",
       "2       Former smoker  Never used e-cigarettes in my entire life   \n",
       "3        Never smoked  Never used e-cigarettes in my entire life   \n",
       "4        Never smoked  Never used e-cigarettes in my entire life   \n",
       "...               ...                                        ...   \n",
       "246017   Never smoked  Never used e-cigarettes in my entire life   \n",
       "246018   Never smoked  Never used e-cigarettes in my entire life   \n",
       "246019   Never smoked  Never used e-cigarettes in my entire life   \n",
       "246020   Never smoked  Never used e-cigarettes in my entire life   \n",
       "246021   Never smoked  Never used e-cigarettes in my entire life   \n",
       "\n",
       "       AlcoholDrinkers PhysicalActivities  SleepHours HadHeartAttack  \n",
       "0                   No                Yes         9.0             No  \n",
       "1                   No                Yes         6.0             No  \n",
       "2                  Yes                 No         8.0             No  \n",
       "3                   No                Yes         9.0             No  \n",
       "4                   No                Yes         5.0             No  \n",
       "...                ...                ...         ...            ...  \n",
       "246017             Yes                Yes         6.0             No  \n",
       "246018              No                Yes         7.0             No  \n",
       "246019             Yes                Yes         7.0             No  \n",
       "246020              No                Yes         7.0             No  \n",
       "246021              No                 No         5.0            Yes  \n",
       "\n",
       "[246022 rows x 10 columns]"
      ]
     },
     "execution_count": 4,
     "metadata": {},
     "output_type": "execute_result"
    }
   ],
   "source": [
    "behavioral_factors = ['HeightInMeters', 'WeightInKilograms', 'BMI', 'AgeCategory', 'SmokerStatus', \n",
    "                      'ECigaretteUsage', 'AlcoholDrinkers', 'PhysicalActivities', 'SleepHours', 'HadHeartAttack']\n",
    "bf = df[behavioral_factors]\n",
    "bf"
   ]
  },
  {
   "cell_type": "code",
   "execution_count": 74,
   "metadata": {},
   "outputs": [
    {
     "data": {
      "image/png": "[encoded data removed]",
      "text/plain": [
       "<Figure size 1600x200 with 1 Axes>"
      ]
     },
     "metadata": {},
     "output_type": "display_data"
    }
   ],
   "source": [
    "sns.set_style('ticks')\n",
    "plt.figure(figsize=(16, 2))\n",
    "sns.boxplot(data=df, x='SleepHours')\n",
    "plt.show()"
   ]
  },
  {
   "cell_type": "code",
   "execution_count": 7,
   "metadata": {},
   "outputs": [
    {
     "data": {
      "text/html": [
       "<div>\n",
       "<style scoped>\n",
       "    .dataframe tbody tr th:only-of-type {\n",
       "        vertical-align: middle;\n",
       "    }\n",
       "\n",
       "    .dataframe tbody tr th {\n",
       "        vertical-align: top;\n",
       "    }\n",
       "\n",
       "    .dataframe thead th {\n",
       "        text-align: right;\n",
       "    }\n",
       "</style>\n",
       "<table border=\"1\" class=\"dataframe\">\n",
       "  <thead>\n",
       "    <tr style=\"text-align: right;\">\n",
       "      <th></th>\n",
       "      <th>HeightInMeters</th>\n",
       "      <th>WeightInKilograms</th>\n",
       "      <th>BMI</th>\n",
       "      <th>AgeCategory</th>\n",
       "      <th>SmokerStatus</th>\n",
       "      <th>ECigaretteUsage</th>\n",
       "      <th>AlcoholDrinkers</th>\n",
       "      <th>PhysicalActivities</th>\n",
       "      <th>SleepHours</th>\n",
       "      <th>HadHeartAttack</th>\n",
       "    </tr>\n",
       "  </thead>\n",
       "  <tbody>\n",
       "    <tr>\n",
       "      <th>0</th>\n",
       "      <td>1.60</td>\n",
       "      <td>71.67</td>\n",
       "      <td>27.99</td>\n",
       "      <td>Age 65 to 69</td>\n",
       "      <td>Former smoker</td>\n",
       "      <td>Never</td>\n",
       "      <td>No</td>\n",
       "      <td>Yes</td>\n",
       "      <td>9.0</td>\n",
       "      <td>No</td>\n",
       "    </tr>\n",
       "    <tr>\n",
       "      <th>1</th>\n",
       "      <td>1.78</td>\n",
       "      <td>95.25</td>\n",
       "      <td>30.13</td>\n",
       "      <td>Age 70 to 74</td>\n",
       "      <td>Former smoker</td>\n",
       "      <td>Never</td>\n",
       "      <td>No</td>\n",
       "      <td>Yes</td>\n",
       "      <td>6.0</td>\n",
       "      <td>No</td>\n",
       "    </tr>\n",
       "    <tr>\n",
       "      <th>2</th>\n",
       "      <td>1.85</td>\n",
       "      <td>108.86</td>\n",
       "      <td>31.66</td>\n",
       "      <td>Age 75 to 79</td>\n",
       "      <td>Former smoker</td>\n",
       "      <td>Never</td>\n",
       "      <td>Yes</td>\n",
       "      <td>No</td>\n",
       "      <td>8.0</td>\n",
       "      <td>No</td>\n",
       "    </tr>\n",
       "    <tr>\n",
       "      <th>3</th>\n",
       "      <td>1.70</td>\n",
       "      <td>90.72</td>\n",
       "      <td>31.32</td>\n",
       "      <td>Age 80 or older</td>\n",
       "      <td>Never smoked</td>\n",
       "      <td>Never</td>\n",
       "      <td>No</td>\n",
       "      <td>Yes</td>\n",
       "      <td>9.0</td>\n",
       "      <td>No</td>\n",
       "    </tr>\n",
       "    <tr>\n",
       "      <th>4</th>\n",
       "      <td>1.55</td>\n",
       "      <td>79.38</td>\n",
       "      <td>33.07</td>\n",
       "      <td>Age 80 or older</td>\n",
       "      <td>Never smoked</td>\n",
       "      <td>Never</td>\n",
       "      <td>No</td>\n",
       "      <td>Yes</td>\n",
       "      <td>5.0</td>\n",
       "      <td>No</td>\n",
       "    </tr>\n",
       "    <tr>\n",
       "      <th>...</th>\n",
       "      <td>...</td>\n",
       "      <td>...</td>\n",
       "      <td>...</td>\n",
       "      <td>...</td>\n",
       "      <td>...</td>\n",
       "      <td>...</td>\n",
       "      <td>...</td>\n",
       "      <td>...</td>\n",
       "      <td>...</td>\n",
       "      <td>...</td>\n",
       "    </tr>\n",
       "    <tr>\n",
       "      <th>234314</th>\n",
       "      <td>1.78</td>\n",
       "      <td>102.06</td>\n",
       "      <td>32.28</td>\n",
       "      <td>Age 60 to 64</td>\n",
       "      <td>Never smoked</td>\n",
       "      <td>Never</td>\n",
       "      <td>Yes</td>\n",
       "      <td>Yes</td>\n",
       "      <td>6.0</td>\n",
       "      <td>No</td>\n",
       "    </tr>\n",
       "    <tr>\n",
       "      <th>234315</th>\n",
       "      <td>1.93</td>\n",
       "      <td>90.72</td>\n",
       "      <td>24.34</td>\n",
       "      <td>Age 25 to 29</td>\n",
       "      <td>Never smoked</td>\n",
       "      <td>Never</td>\n",
       "      <td>No</td>\n",
       "      <td>Yes</td>\n",
       "      <td>7.0</td>\n",
       "      <td>No</td>\n",
       "    </tr>\n",
       "    <tr>\n",
       "      <th>234316</th>\n",
       "      <td>1.68</td>\n",
       "      <td>83.91</td>\n",
       "      <td>29.86</td>\n",
       "      <td>Age 65 to 69</td>\n",
       "      <td>Never smoked</td>\n",
       "      <td>Never</td>\n",
       "      <td>Yes</td>\n",
       "      <td>Yes</td>\n",
       "      <td>7.0</td>\n",
       "      <td>No</td>\n",
       "    </tr>\n",
       "    <tr>\n",
       "      <th>234317</th>\n",
       "      <td>1.70</td>\n",
       "      <td>83.01</td>\n",
       "      <td>28.66</td>\n",
       "      <td>Age 50 to 54</td>\n",
       "      <td>Never smoked</td>\n",
       "      <td>Never</td>\n",
       "      <td>No</td>\n",
       "      <td>Yes</td>\n",
       "      <td>7.0</td>\n",
       "      <td>No</td>\n",
       "    </tr>\n",
       "    <tr>\n",
       "      <th>234318</th>\n",
       "      <td>1.83</td>\n",
       "      <td>108.86</td>\n",
       "      <td>32.55</td>\n",
       "      <td>Age 70 to 74</td>\n",
       "      <td>Never smoked</td>\n",
       "      <td>Never</td>\n",
       "      <td>No</td>\n",
       "      <td>No</td>\n",
       "      <td>5.0</td>\n",
       "      <td>Yes</td>\n",
       "    </tr>\n",
       "  </tbody>\n",
       "</table>\n",
       "<p>234319 rows × 10 columns</p>\n",
       "</div>"
      ],
      "text/plain": [
       "        HeightInMeters  WeightInKilograms    BMI      AgeCategory  \\\n",
       "0                 1.60              71.67  27.99     Age 65 to 69   \n",
       "1                 1.78              95.25  30.13     Age 70 to 74   \n",
       "2                 1.85             108.86  31.66     Age 75 to 79   \n",
       "3                 1.70              90.72  31.32  Age 80 or older   \n",
       "4                 1.55              79.38  33.07  Age 80 or older   \n",
       "...                ...                ...    ...              ...   \n",
       "234314            1.78             102.06  32.28     Age 60 to 64   \n",
       "234315            1.93              90.72  24.34     Age 25 to 29   \n",
       "234316            1.68              83.91  29.86     Age 65 to 69   \n",
       "234317            1.70              83.01  28.66     Age 50 to 54   \n",
       "234318            1.83             108.86  32.55     Age 70 to 74   \n",
       "\n",
       "         SmokerStatus ECigaretteUsage AlcoholDrinkers PhysicalActivities  \\\n",
       "0       Former smoker           Never              No                Yes   \n",
       "1       Former smoker           Never              No                Yes   \n",
       "2       Former smoker           Never             Yes                 No   \n",
       "3        Never smoked           Never              No                Yes   \n",
       "4        Never smoked           Never              No                Yes   \n",
       "...               ...             ...             ...                ...   \n",
       "234314   Never smoked           Never             Yes                Yes   \n",
       "234315   Never smoked           Never              No                Yes   \n",
       "234316   Never smoked           Never             Yes                Yes   \n",
       "234317   Never smoked           Never              No                Yes   \n",
       "234318   Never smoked           Never              No                 No   \n",
       "\n",
       "        SleepHours HadHeartAttack  \n",
       "0              9.0             No  \n",
       "1              6.0             No  \n",
       "2              8.0             No  \n",
       "3              9.0             No  \n",
       "4              5.0             No  \n",
       "...            ...            ...  \n",
       "234314         6.0             No  \n",
       "234315         7.0             No  \n",
       "234316         7.0             No  \n",
       "234317         7.0             No  \n",
       "234318         5.0            Yes  \n",
       "\n",
       "[234319 rows x 10 columns]"
      ]
     },
     "execution_count": 7,
     "metadata": {},
     "output_type": "execute_result"
    }
   ],
   "source": [
    "# Sleep Hour\n",
    "Q1 = bf['SleepHours'].quantile(0.25)\n",
    "Q3 = bf['SleepHours'].quantile(0.75)\n",
    "IQR = Q3-Q1\n",
    "lower_limit = Q1 - (IQR * 1.5)\n",
    "upper_limit = Q3 + (IQR * 1.5)\n",
    "\n",
    "bf = bf.drop(bf[bf['SleepHours'] < lower_limit].index)\n",
    "bf = bf.drop(bf[bf['SleepHours'] > upper_limit].index)\n",
    "bf.reset_index(drop=True, inplace=True)\n",
    "\n",
    "# Height\n",
    "Q1 = bf['HeightInMeters'].quantile(0.25)\n",
    "Q3 = bf['HeightInMeters'].quantile(0.75)\n",
    "IQR = Q3-Q1\n",
    "lower_limit = Q1 - (IQR * 1.5)\n",
    "upper_limit = Q3 + (IQR * 1.5)\n",
    "\n",
    "bf = bf.drop(bf[bf['HeightInMeters'] < lower_limit].index)\n",
    "bf = bf.drop(bf[bf['HeightInMeters'] > upper_limit].index)\n",
    "bf.reset_index(drop=True, inplace=True)\n",
    "\n",
    "# Weight\n",
    "Q1 = bf['WeightInKilograms'].quantile(0.25)\n",
    "Q3 = bf['WeightInKilograms'].quantile(0.75)\n",
    "IQR = Q3-Q1\n",
    "lower_limit = Q1 - (IQR * 1.5)\n",
    "upper_limit = Q3 + (IQR * 1.5)\n",
    "\n",
    "bf = bf.drop(bf[bf['WeightInKilograms'] < lower_limit].index)\n",
    "bf = bf.drop(bf[bf['WeightInKilograms'] > upper_limit].index)\n",
    "bf.reset_index(drop=True, inplace=True)\n",
    "\n",
    "bf"
   ]
  },
  {
   "cell_type": "code",
   "execution_count": 6,
   "metadata": {},
   "outputs": [
    {
     "name": "stderr",
     "output_type": "stream",
     "text": [
      "C:\\Users\\MasAm\\AppData\\Local\\Temp\\ipykernel_18752\\4068451267.py:1: FutureWarning: A value is trying to be set on a copy of a DataFrame or Series through chained assignment using an inplace method.\n",
      "The behavior will change in pandas 3.0. This inplace method will never work because the intermediate object on which we are setting values always behaves as a copy.\n",
      "\n",
      "For example, when doing 'df[col].method(value, inplace=True)', try using 'df.method({col: value}, inplace=True)' or df[col] = df[col].method(value) instead, to perform the operation inplace on the original object.\n",
      "\n",
      "\n",
      "  bf['SmokerStatus'].replace({'Current smoker - now smokes some days' : 'Current smoker (Somedays)',\n",
      "C:\\Users\\MasAm\\AppData\\Local\\Temp\\ipykernel_18752\\4068451267.py:3: FutureWarning: A value is trying to be set on a copy of a DataFrame or Series through chained assignment using an inplace method.\n",
      "The behavior will change in pandas 3.0. This inplace method will never work because the intermediate object on which we are setting values always behaves as a copy.\n",
      "\n",
      "For example, when doing 'df[col].method(value, inplace=True)', try using 'df.method({col: value}, inplace=True)' or df[col] = df[col].method(value) instead, to perform the operation inplace on the original object.\n",
      "\n",
      "\n",
      "  bf['ECigaretteUsage'].replace({'Not at all (right now)' : 'Not at all',\n"
     ]
    }
   ],
   "source": [
    "bf['SmokerStatus'].replace({'Current smoker - now smokes some days' : 'Current smoker (Somedays)',\n",
    "                            'Current smoker - now smokes every day' : 'Current smoker (Everyday)'}, inplace=True)\n",
    "bf['ECigaretteUsage'].replace({'Not at all (right now)' : 'Not at all',\n",
    "                               'Never used e-cigarettes in my entire life' : 'Never',\n",
    "                               'Use them every day' : 'Everyday',\n",
    "                               'Use them some days' : 'Somedays'}, inplace=True)"
   ]
  },
  {
   "cell_type": "code",
   "execution_count": 8,
   "metadata": {},
   "outputs": [],
   "source": [
    "bf.to_csv('behavior_factor.csv')"
   ]
  },
  {
   "cell_type": "code",
   "execution_count": 71,
   "metadata": {},
   "outputs": [
    {
     "data": {
      "text/html": [
       "<div>\n",
       "<style scoped>\n",
       "    .dataframe tbody tr th:only-of-type {\n",
       "        vertical-align: middle;\n",
       "    }\n",
       "\n",
       "    .dataframe tbody tr th {\n",
       "        vertical-align: top;\n",
       "    }\n",
       "\n",
       "    .dataframe thead th {\n",
       "        text-align: right;\n",
       "    }\n",
       "</style>\n",
       "<table border=\"1\" class=\"dataframe\">\n",
       "  <thead>\n",
       "    <tr style=\"text-align: right;\">\n",
       "      <th></th>\n",
       "      <th>HeightInMeters</th>\n",
       "      <th>WeightInKilograms</th>\n",
       "      <th>BMI</th>\n",
       "      <th>AgeCategory</th>\n",
       "      <th>SmokerStatus</th>\n",
       "      <th>ECigaretteUsage</th>\n",
       "      <th>AlcoholDrinkers</th>\n",
       "      <th>PhysicalActivities</th>\n",
       "      <th>SleepHours</th>\n",
       "      <th>HadHeartAttack</th>\n",
       "    </tr>\n",
       "  </thead>\n",
       "  <tbody>\n",
       "    <tr>\n",
       "      <th>0</th>\n",
       "      <td>1.60</td>\n",
       "      <td>71.67</td>\n",
       "      <td>27.99</td>\n",
       "      <td>9</td>\n",
       "      <td>2</td>\n",
       "      <td>0</td>\n",
       "      <td>0</td>\n",
       "      <td>1</td>\n",
       "      <td>9.0</td>\n",
       "      <td>0</td>\n",
       "    </tr>\n",
       "    <tr>\n",
       "      <th>1</th>\n",
       "      <td>1.78</td>\n",
       "      <td>95.25</td>\n",
       "      <td>30.13</td>\n",
       "      <td>10</td>\n",
       "      <td>2</td>\n",
       "      <td>0</td>\n",
       "      <td>0</td>\n",
       "      <td>1</td>\n",
       "      <td>6.0</td>\n",
       "      <td>0</td>\n",
       "    </tr>\n",
       "    <tr>\n",
       "      <th>2</th>\n",
       "      <td>1.85</td>\n",
       "      <td>108.86</td>\n",
       "      <td>31.66</td>\n",
       "      <td>11</td>\n",
       "      <td>2</td>\n",
       "      <td>0</td>\n",
       "      <td>1</td>\n",
       "      <td>0</td>\n",
       "      <td>8.0</td>\n",
       "      <td>0</td>\n",
       "    </tr>\n",
       "    <tr>\n",
       "      <th>3</th>\n",
       "      <td>1.70</td>\n",
       "      <td>90.72</td>\n",
       "      <td>31.32</td>\n",
       "      <td>12</td>\n",
       "      <td>3</td>\n",
       "      <td>0</td>\n",
       "      <td>0</td>\n",
       "      <td>1</td>\n",
       "      <td>9.0</td>\n",
       "      <td>0</td>\n",
       "    </tr>\n",
       "    <tr>\n",
       "      <th>4</th>\n",
       "      <td>1.55</td>\n",
       "      <td>79.38</td>\n",
       "      <td>33.07</td>\n",
       "      <td>12</td>\n",
       "      <td>3</td>\n",
       "      <td>0</td>\n",
       "      <td>0</td>\n",
       "      <td>1</td>\n",
       "      <td>5.0</td>\n",
       "      <td>0</td>\n",
       "    </tr>\n",
       "    <tr>\n",
       "      <th>...</th>\n",
       "      <td>...</td>\n",
       "      <td>...</td>\n",
       "      <td>...</td>\n",
       "      <td>...</td>\n",
       "      <td>...</td>\n",
       "      <td>...</td>\n",
       "      <td>...</td>\n",
       "      <td>...</td>\n",
       "      <td>...</td>\n",
       "      <td>...</td>\n",
       "    </tr>\n",
       "    <tr>\n",
       "      <th>235974</th>\n",
       "      <td>1.78</td>\n",
       "      <td>102.06</td>\n",
       "      <td>32.28</td>\n",
       "      <td>8</td>\n",
       "      <td>3</td>\n",
       "      <td>0</td>\n",
       "      <td>1</td>\n",
       "      <td>1</td>\n",
       "      <td>6.0</td>\n",
       "      <td>0</td>\n",
       "    </tr>\n",
       "    <tr>\n",
       "      <th>235975</th>\n",
       "      <td>1.93</td>\n",
       "      <td>90.72</td>\n",
       "      <td>24.34</td>\n",
       "      <td>1</td>\n",
       "      <td>3</td>\n",
       "      <td>0</td>\n",
       "      <td>0</td>\n",
       "      <td>1</td>\n",
       "      <td>7.0</td>\n",
       "      <td>0</td>\n",
       "    </tr>\n",
       "    <tr>\n",
       "      <th>235976</th>\n",
       "      <td>1.68</td>\n",
       "      <td>83.91</td>\n",
       "      <td>29.86</td>\n",
       "      <td>9</td>\n",
       "      <td>3</td>\n",
       "      <td>0</td>\n",
       "      <td>1</td>\n",
       "      <td>1</td>\n",
       "      <td>7.0</td>\n",
       "      <td>0</td>\n",
       "    </tr>\n",
       "    <tr>\n",
       "      <th>235977</th>\n",
       "      <td>1.70</td>\n",
       "      <td>83.01</td>\n",
       "      <td>28.66</td>\n",
       "      <td>6</td>\n",
       "      <td>3</td>\n",
       "      <td>0</td>\n",
       "      <td>0</td>\n",
       "      <td>1</td>\n",
       "      <td>7.0</td>\n",
       "      <td>0</td>\n",
       "    </tr>\n",
       "    <tr>\n",
       "      <th>235978</th>\n",
       "      <td>1.83</td>\n",
       "      <td>108.86</td>\n",
       "      <td>32.55</td>\n",
       "      <td>10</td>\n",
       "      <td>3</td>\n",
       "      <td>0</td>\n",
       "      <td>0</td>\n",
       "      <td>0</td>\n",
       "      <td>5.0</td>\n",
       "      <td>1</td>\n",
       "    </tr>\n",
       "  </tbody>\n",
       "</table>\n",
       "<p>235979 rows × 10 columns</p>\n",
       "</div>"
      ],
      "text/plain": [
       "        HeightInMeters  WeightInKilograms    BMI  AgeCategory  SmokerStatus  \\\n",
       "0                 1.60              71.67  27.99            9             2   \n",
       "1                 1.78              95.25  30.13           10             2   \n",
       "2                 1.85             108.86  31.66           11             2   \n",
       "3                 1.70              90.72  31.32           12             3   \n",
       "4                 1.55              79.38  33.07           12             3   \n",
       "...                ...                ...    ...          ...           ...   \n",
       "235974            1.78             102.06  32.28            8             3   \n",
       "235975            1.93              90.72  24.34            1             3   \n",
       "235976            1.68              83.91  29.86            9             3   \n",
       "235977            1.70              83.01  28.66            6             3   \n",
       "235978            1.83             108.86  32.55           10             3   \n",
       "\n",
       "        ECigaretteUsage  AlcoholDrinkers  PhysicalActivities  SleepHours  \\\n",
       "0                     0                0                   1         9.0   \n",
       "1                     0                0                   1         6.0   \n",
       "2                     0                1                   0         8.0   \n",
       "3                     0                0                   1         9.0   \n",
       "4                     0                0                   1         5.0   \n",
       "...                 ...              ...                 ...         ...   \n",
       "235974                0                1                   1         6.0   \n",
       "235975                0                0                   1         7.0   \n",
       "235976                0                1                   1         7.0   \n",
       "235977                0                0                   1         7.0   \n",
       "235978                0                0                   0         5.0   \n",
       "\n",
       "        HadHeartAttack  \n",
       "0                    0  \n",
       "1                    0  \n",
       "2                    0  \n",
       "3                    0  \n",
       "4                    0  \n",
       "...                ...  \n",
       "235974               0  \n",
       "235975               0  \n",
       "235976               0  \n",
       "235977               0  \n",
       "235978               1  \n",
       "\n",
       "[235979 rows x 10 columns]"
      ]
     },
     "execution_count": 71,
     "metadata": {},
     "output_type": "execute_result"
    }
   ],
   "source": [
    "from sklearn.preprocessing import LabelEncoder\n",
    "\n",
    "encoder = LabelEncoder()\n",
    "bf['AgeCategory'] = encoder.fit_transform(bf['AgeCategory'])\n",
    "bf['SmokerStatus'] = encoder.fit_transform(bf['SmokerStatus'])\n",
    "bf['ECigaretteUsage'] = encoder.fit_transform(bf['ECigaretteUsage'])\n",
    "bf['AlcoholDrinkers'] = encoder.fit_transform(bf['AlcoholDrinkers'])\n",
    "bf['PhysicalActivities'] = encoder.fit_transform(bf['PhysicalActivities'])\n",
    "bf['HadHeartAttack'] = encoder.fit_transform(bf['HadHeartAttack'])\n",
    "bf"
   ]
  },
  {
   "cell_type": "code",
   "execution_count": 59,
   "metadata": {},
   "outputs": [
    {
     "data": {
      "text/plain": [
       "array(['No', 'Yes'], dtype=object)"
      ]
     },
     "execution_count": 59,
     "metadata": {},
     "output_type": "execute_result"
    }
   ],
   "source": [
    "encoder.classes_"
   ]
  },
  {
   "cell_type": "code",
   "execution_count": 74,
   "metadata": {},
   "outputs": [
    {
     "data": {
      "text/plain": [
       "(246022, 31)"
      ]
     },
     "execution_count": 74,
     "metadata": {},
     "output_type": "execute_result"
    }
   ],
   "source": [
    "df.shape"
   ]
  },
  {
   "cell_type": "code",
   "execution_count": 43,
   "metadata": {},
   "outputs": [],
   "source": [
    "# Function for setting style and size of plot\n",
    "def set_size_style(width, height, style=None):\n",
    "    plt.figure(figsize=(width, height))\n",
    "    if style != None:\n",
    "        sns.set_style(style)\n",
    "\n",
    "# Function for customizating the plot\n",
    "def customize_plot(plot, title:str, xlabel:str,  ylabel:str, title_font:int, label_font:int):\n",
    "    plot.set_title(title, fontsize = title_font, weight='bold')\n",
    "    plot.set_xlabel(xlabel, fontsize = label_font, weight='bold')\n",
    "    plot.set_ylabel(ylabel, fontsize = label_font, weight='bold')"
   ]
  },
  {
   "cell_type": "code",
   "execution_count": 80,
   "metadata": {},
   "outputs": [
    {
     "data": {
      "image/png": "[encoded data removed]",
      "text/plain": [
       "<Figure size 1000x400 with 4 Axes>"
      ]
     },
     "metadata": {},
     "output_type": "display_data"
    }
   ],
   "source": [
    "SmokerData = df[(df['SmokerStatus'] == 'Current smoker - now smokes every day') | (df['SmokerStatus'] == 'Current smoker - now smokes some days')]\n",
    "ECigaretteData = df[(df['ECigaretteUsage'] == 'Use them every day') | (df['ECigaretteUsage'] == 'Use them some days')]\n",
    "AlcoholDrinkersData = df[(df['AlcoholDrinkers'] == 'Yes')]\n",
    "PhysicallyActiveData = df[(df['PhysicalActivities'] == 'Yes')]\n",
    "\n",
    "set_size_style(10,4,'ticks')\n",
    "\n",
    "plt.suptitle('Correlation of Smoking, E-Cigarette Use, Alcohol Consumption and Physical Activities with Heart Attack Risk', fontweight='bold')\n",
    "\n",
    "plt.subplot(1, 4, 1)\n",
    "ax1 = sns.countplot(data=SmokerData, x='HadHeartAttack')\n",
    "for container in ax1.containers:\n",
    "    ax1.bar_label(container)\n",
    "customize_plot(ax1,\"Smokers Data\" ,'HadHeartAttack', 'Individuals', 12,10)\n",
    "\n",
    "plt.subplot(1, 4, 2)\n",
    "ax2 = sns.countplot(data=ECigaretteData, x='HadHeartAttack')\n",
    "for container in ax2.containers:\n",
    "    ax2.bar_label(container)\n",
    "customize_plot(ax2,\"E-Cigarette Users Data\" ,'HadHeartAttack', 'Individuals', 12,10)\n",
    "\n",
    "plt.subplot(1, 4, 3)\n",
    "ax3 = sns.countplot(data=AlcoholDrinkersData, x='HadHeartAttack')\n",
    "for container in ax3.containers:\n",
    "    ax3.bar_label(container)\n",
    "customize_plot(ax3,\"Alcohol Drinkers Data\" ,'HadHeartAttack', 'Individuals', 12,10)\n",
    "\n",
    "plt.subplot(1, 4, 4)\n",
    "ax4 = sns.countplot(data=PhysicallyActiveData, x='HadHeartAttack')\n",
    "for container in ax4.containers:\n",
    "    ax4.bar_label(container)\n",
    "customize_plot(ax4,\"Physically Active Data\" ,'HadHeartAttack', 'Individuals', 12,10)\n",
    "plt.tight_layout()"
   ]
  },
  {
   "cell_type": "code",
   "execution_count": 81,
   "metadata": {},
   "outputs": [
    {
     "data": {
      "text/plain": [
       "Text(0.5, 1.0, 'Prevalence of Health Behaviors among Heart Patients')"
      ]
     },
     "execution_count": 81,
     "metadata": {},
     "output_type": "execute_result"
    },
    {
     "data": {
      "image/png": "[encoded data removed]",
      "text/plain": [
       "<Figure size 640x480 with 1 Axes>"
      ]
     },
     "metadata": {},
     "output_type": "display_data"
    }
   ],
   "source": [
    "Smoker_heart_attack_percentage = (SmokerData['HadHeartAttack'].value_counts(normalize=True) * 100).to_dict()\n",
    "ECigarette_heart_attack_percentage = (ECigaretteData['HadHeartAttack'].value_counts(normalize=True) * 100).to_dict()\n",
    "Alcohol_heart_attack_percentage = (AlcoholDrinkersData['HadHeartAttack'].value_counts(normalize=True) * 100).to_dict()\n",
    "PhysicalActivities_heart_attack_percentage = (PhysicallyActiveData['HadHeartAttack'].value_counts(normalize=True) * 100).to_dict()\n",
    "\n",
    "\n",
    "behavior_percentages = {\n",
    "    'Smoking': Smoker_heart_attack_percentage.get('Yes'),\n",
    "    'E-Cigarette Use': ECigarette_heart_attack_percentage.get('Yes'),\n",
    "    'Alcohol Consumption': Alcohol_heart_attack_percentage.get('Yes'),\n",
    "    'Physically Active': PhysicalActivities_heart_attack_percentage.get('Yes')\n",
    "}\n",
    "plt.pie(behavior_percentages.values(), labels=behavior_percentages.keys(), autopct='%1.1f%%', startangle=90)\n",
    "plt.title('Prevalence of Health Behaviors among Heart Patients', weight = 'bold')"
   ]
  },
  {
   "cell_type": "code",
   "execution_count": 83,
   "metadata": {},
   "outputs": [
    {
     "data": {
      "image/png": "[encoded data removed]",
      "text/plain": [
       "<Figure size 640x480 with 1 Axes>"
      ]
     },
     "metadata": {},
     "output_type": "display_data"
    }
   ],
   "source": [
    "ax = sns.boxplot(x='HadHeartAttack', y='SleepHours', data=df)\n",
    "customize_plot(ax,\"Relationship Between Heart Attack & Sleep Hours\" ,'HadHeartAttack' , 'Sleep Hours', 12,10)"
   ]
  },
  {
   "cell_type": "code",
   "execution_count": 87,
   "metadata": {},
   "outputs": [
    {
     "name": "stderr",
     "output_type": "stream",
     "text": [
      "C:\\Users\\MasAm\\AppData\\Local\\Temp\\ipykernel_17468\\2113702127.py:1: FutureWarning: Downcasting behavior in `replace` is deprecated and will be removed in a future version. To retain the old behavior, explicitly call `result.infer_objects(copy=False)`. To opt-in to the future behavior, set `pd.set_option('future.no_silent_downcasting', True)`\n",
      "  df['HadHeartAttack'].replace({'Yes' : 1, 'No' : 0}, inplace=True)\n"
     ]
    }
   ],
   "source": [
    "df['HadHeartAttack'].replace({'Yes' : 1, 'No' : 0}, inplace=True)"
   ]
  },
  {
   "cell_type": "code",
   "execution_count": 99,
   "metadata": {},
   "outputs": [
    {
     "name": "stderr",
     "output_type": "stream",
     "text": [
      "C:\\Users\\MasAm\\AppData\\Local\\Temp\\ipykernel_17468\\2806321296.py:1: FutureWarning: Downcasting behavior in `replace` is deprecated and will be removed in a future version. To retain the old behavior, explicitly call `result.infer_objects(copy=False)`. To opt-in to the future behavior, set `pd.set_option('future.no_silent_downcasting', True)`\n",
      "  df['AlcoholDrinkers'].replace({'Yes' : 1, 'No' : 0}, inplace=True)\n"
     ]
    }
   ],
   "source": [
    "df['AlcoholDrinkers'].replace({'Yes' : 1, 'No' : 0}, inplace=True)"
   ]
  },
  {
   "cell_type": "code",
   "execution_count": 100,
   "metadata": {},
   "outputs": [
    {
     "name": "stderr",
     "output_type": "stream",
     "text": [
      "C:\\Users\\MasAm\\AppData\\Local\\Temp\\ipykernel_17468\\3864778057.py:1: FutureWarning: Downcasting behavior in `replace` is deprecated and will be removed in a future version. To retain the old behavior, explicitly call `result.infer_objects(copy=False)`. To opt-in to the future behavior, set `pd.set_option('future.no_silent_downcasting', True)`\n",
      "  df['PhysicalActivities'].replace({'Yes' : 1, 'No' : 0}, inplace=True)\n"
     ]
    }
   ],
   "source": [
    "df['PhysicalActivities'].replace({'Yes' : 1, 'No' : 0}, inplace=True)"
   ]
  },
  {
   "cell_type": "code",
   "execution_count": 101,
   "metadata": {},
   "outputs": [
    {
     "name": "stderr",
     "output_type": "stream",
     "text": [
      "C:\\Users\\MasAm\\AppData\\Local\\Temp\\ipykernel_17468\\223920019.py:1: FutureWarning: Downcasting behavior in `replace` is deprecated and will be removed in a future version. To retain the old behavior, explicitly call `result.infer_objects(copy=False)`. To opt-in to the future behavior, set `pd.set_option('future.no_silent_downcasting', True)`\n",
      "  df['SmokerStatus'].replace({'Former smoker' : 1, 'Never smoked' : 2,\n"
     ]
    }
   ],
   "source": [
    "df['SmokerStatus'].replace({'Former smoker' : 1, 'Never smoked' : 2,\n",
    "       'Current smoker - now smokes every day' : 3,\n",
    "       'Current smoker - now smokes some days': 4}, inplace=True)"
   ]
  },
  {
   "cell_type": "code",
   "execution_count": 102,
   "metadata": {},
   "outputs": [
    {
     "name": "stderr",
     "output_type": "stream",
     "text": [
      "C:\\Users\\MasAm\\AppData\\Local\\Temp\\ipykernel_17468\\152864692.py:1: FutureWarning: Downcasting behavior in `replace` is deprecated and will be removed in a future version. To retain the old behavior, explicitly call `result.infer_objects(copy=False)`. To opt-in to the future behavior, set `pd.set_option('future.no_silent_downcasting', True)`\n",
      "  df['ECigaretteUsage'].replace({'Never used e-cigarettes in my entire life' : 1, 'Use them some days' : 2,\n"
     ]
    }
   ],
   "source": [
    "df['ECigaretteUsage'].replace({'Never used e-cigarettes in my entire life' : 1, 'Use them some days' : 2,\n",
    "       'Not at all (right now)' : 3, 'Use them every day' : 4}, inplace=True)"
   ]
  },
  {
   "cell_type": "code",
   "execution_count": 24,
   "metadata": {},
   "outputs": [],
   "source": [
    "x = bf.drop(columns=['HadHeartAttack'])\n",
    "y = bf['HadHeartAttack']"
   ]
  },
  {
   "cell_type": "code",
   "execution_count": 25,
   "metadata": {},
   "outputs": [],
   "source": [
    "from sklearn.preprocessing import StandardScaler\n",
    "scaler = StandardScaler()\n",
    "scaler.fit(x)\n",
    "std_data = scaler.transform(x)\n",
    "x = std_data"
   ]
  },
  {
   "cell_type": "code",
   "execution_count": 26,
   "metadata": {},
   "outputs": [],
   "source": [
    "from sklearn.model_selection import train_test_split\n",
    "x_train, x_test, y_train, y_test = train_test_split(x,y,test_size=0.2,random_state=42)"
   ]
  },
  {
   "cell_type": "code",
   "execution_count": 27,
   "metadata": {},
   "outputs": [
    {
     "name": "stdout",
     "output_type": "stream",
     "text": [
      "(188783, 9)\n",
      "(188783,)\n"
     ]
    }
   ],
   "source": [
    "print(x_train.shape)\n",
    "print(y_train.shape)"
   ]
  },
  {
   "cell_type": "code",
   "execution_count": 28,
   "metadata": {},
   "outputs": [
    {
     "name": "stdout",
     "output_type": "stream",
     "text": [
      "0.9457157386219172\n"
     ]
    }
   ],
   "source": [
    "from sklearn.neighbors import KNeighborsClassifier\n",
    "from sklearn.metrics import accuracy_score\n",
    "knn = KNeighborsClassifier(n_neighbors=8)\n",
    "knn.fit(x_train, y_train)\n",
    "y_pred = knn.predict(x_test)\n",
    "print(accuracy_score(y_test, y_pred))"
   ]
  },
  {
   "cell_type": "code",
   "execution_count": 29,
   "metadata": {},
   "outputs": [
    {
     "name": "stdout",
     "output_type": "stream",
     "text": [
      "Accuracy :  0.9462878210017798\n"
     ]
    }
   ],
   "source": [
    "from sklearn.linear_model import LogisticRegression\n",
    "classifier = LogisticRegression(random_state = 0)\n",
    "classifier.fit(x_train, y_train)\n",
    "y_pred = classifier.predict(x_test)\n",
    "print (\"Accuracy : \", accuracy_score(y_test, y_pred))"
   ]
  },
  {
   "cell_type": "code",
   "execution_count": 30,
   "metadata": {},
   "outputs": [
    {
     "name": "stdout",
     "output_type": "stream",
     "text": [
      "Accuracy: 0.9408636325112297\n"
     ]
    }
   ],
   "source": [
    "from sklearn.naive_bayes import GaussianNB\n",
    "from sklearn import metrics\n",
    "\n",
    "gnb = GaussianNB()\n",
    "gnb.fit(x_train, y_train)\n",
    "y_pred = gnb.predict(x_test)\n",
    "print(\"Accuracy:\",metrics.accuracy_score(y_test, y_pred))"
   ]
  },
  {
   "cell_type": "code",
   "execution_count": 31,
   "metadata": {},
   "outputs": [
    {
     "data": {
      "text/plain": [
       "HadHeartAttack\n",
       "No     232587\n",
       "Yes     13435\n",
       "Name: count, dtype: int64"
      ]
     },
     "execution_count": 31,
     "metadata": {},
     "output_type": "execute_result"
    }
   ],
   "source": [
    "df['HadHeartAttack'].value_counts()"
   ]
  },
  {
   "cell_type": "code",
   "execution_count": 16,
   "metadata": {},
   "outputs": [],
   "source": [
    "from collections import Counter\n",
    "from imblearn.over_sampling import SMOTE"
   ]
  },
  {
   "cell_type": "code",
   "execution_count": 32,
   "metadata": {},
   "outputs": [
    {
     "name": "stdout",
     "output_type": "stream",
     "text": [
      "Original dataset shape Counter({0: 178718, 1: 10065})\n",
      "Resample dataset shape Counter({0: 178718, 1: 178718})\n"
     ]
    }
   ],
   "source": [
    "smote = SMOTE()\n",
    "\n",
    "\n",
    "x_train_r, y_train_r = smote.fit_resample(x_train, y_train)\n",
    "x_test_r, y_test_r = smote.fit_resample(x_test, y_test)\n",
    "\n",
    "print('Original dataset shape', Counter(y_train))\n",
    "print('Resample dataset shape', Counter(y_train_r))"
   ]
  },
  {
   "cell_type": "code",
   "execution_count": 33,
   "metadata": {},
   "outputs": [
    {
     "name": "stdout",
     "output_type": "stream",
     "text": [
      "70.85156503541893\n"
     ]
    }
   ],
   "source": [
    "gnb = GaussianNB()\n",
    "gnb.fit(x_train_r, y_train_r)\n",
    "training_accuracy_after_sampling=gnb.score(x_train_r, y_train_r)*100\n",
    "print(training_accuracy_after_sampling)"
   ]
  },
  {
   "cell_type": "code",
   "execution_count": 34,
   "metadata": {},
   "outputs": [
    {
     "data": {
      "text/plain": [
       "70.81010277423255"
      ]
     },
     "execution_count": 34,
     "metadata": {},
     "output_type": "execute_result"
    }
   ],
   "source": [
    "y_pred_r= gnb.predict(x_test_r)\n",
    "accuracy_score(y_test_r, y_pred_r)*100"
   ]
  },
  {
   "cell_type": "code",
   "execution_count": 35,
   "metadata": {},
   "outputs": [
    {
     "name": "stdout",
     "output_type": "stream",
     "text": [
      "71.80362358576082\n"
     ]
    }
   ],
   "source": [
    "classifier = LogisticRegression(random_state = 0)\n",
    "classifier.fit(x_train_r, y_train_r)\n",
    "training_accuracy_after_sampling=classifier.score(x_train_r, y_train_r)*100\n",
    "print(training_accuracy_after_sampling)"
   ]
  },
  {
   "cell_type": "code",
   "execution_count": 36,
   "metadata": {},
   "outputs": [
    {
     "data": {
      "text/plain": [
       "71.13365128411814"
      ]
     },
     "execution_count": 36,
     "metadata": {},
     "output_type": "execute_result"
    }
   ],
   "source": [
    "y_pred_r= classifier.predict(x_test_r)\n",
    "accuracy_score(y_test_r, y_pred_r)*100"
   ]
  },
  {
   "cell_type": "code",
   "execution_count": 37,
   "metadata": {},
   "outputs": [
    {
     "name": "stdout",
     "output_type": "stream",
     "text": [
      "90.234055886928\n"
     ]
    }
   ],
   "source": [
    "knn = KNeighborsClassifier(n_neighbors=8)\n",
    "knn.fit(x_train_r, y_train_r)\n",
    "training_accuracy_after_sampling=knn.score(x_train_r, y_train_r)*100\n",
    "print(training_accuracy_after_sampling)"
   ]
  },
  {
   "cell_type": "code",
   "execution_count": 38,
   "metadata": {},
   "outputs": [
    {
     "data": {
      "text/plain": [
       "61.68021316137122"
      ]
     },
     "execution_count": 38,
     "metadata": {},
     "output_type": "execute_result"
    }
   ],
   "source": [
    "y_pred_r= knn.predict(x_test_r)\n",
    "accuracy_score(y_test_r, y_pred_r)*100"
   ]
  },
  {
   "cell_type": "code",
   "execution_count": 80,
   "metadata": {},
   "outputs": [
    {
     "name": "stdout",
     "output_type": "stream",
     "text": [
      "[1]\n"
     ]
    },
    {
     "name": "stderr",
     "output_type": "stream",
     "text": [
      "c:\\Users\\MasAm\\AppData\\Local\\Programs\\Python\\Python312\\Lib\\site-packages\\sklearn\\base.py:493: UserWarning: X does not have valid feature names, but StandardScaler was fitted with feature names\n",
      "  warnings.warn(\n"
     ]
    }
   ],
   "source": [
    "import numpy as np\n",
    "# input = (1.70, 83.01, 28.66, 6, 3, 0, 0, 1, 7.0)\n",
    "input = (1.83, 108.86, 32.55, 10, 3, 0, 0, 0, 5.0)\n",
    "as_array = np.array(input)\n",
    "reshape = as_array.reshape(1, -1)\n",
    "std_data = scaler.transform(reshape)\n",
    "\n",
    "prediction = knn.predict(std_data)\n",
    "print(prediction)"
   ]
  },
  {
   "cell_type": "code",
   "execution_count": 46,
   "metadata": {},
   "outputs": [],
   "source": [
    "import pickle\n",
    "filename = 'jantung.sav'\n",
    "pickle.dump(knn, open(filename, 'wb'))"
   ]
  },
  {
   "cell_type": "code",
   "execution_count": 83,
   "metadata": {},
   "outputs": [
    {
     "data": {
      "text/plain": [
       "['scaler.save']"
      ]
     },
     "execution_count": 83,
     "metadata": {},
     "output_type": "execute_result"
    }
   ],
   "source": [
    "import joblib\n",
    "scaler_filename = \"scaler.save\"\n",
    "joblib.dump(scaler, scaler_filename) "
   ]
  }
 ],
 "metadata": {
  "kernelspec": {
   "display_name": "Python 3",
   "language": "python",
   "name": "python3"
  },
  "language_info": {
   "codemirror_mode": {
    "name": "ipython",
    "version": 3
   },
   "file_extension": ".py",
   "mimetype": "text/x-python",
   "name": "python",
   "nbconvert_exporter": "python",
   "pygments_lexer": "ipython3",
   "version": "3.12.1"
  }
 },
 "nbformat": 4,
 "nbformat_minor": 2
}
